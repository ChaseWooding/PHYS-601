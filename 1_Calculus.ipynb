{
 "cells": [
  {
   "cell_type": "markdown",
   "id": "e2aa76db",
   "metadata": {},
   "source": [
    "**Working with discretized data**\n",
    "\n",
    "Any computational work on functions of continuous variables relies first on a discretization of these functions, i.e. a choice on how to represent the functions with a finite number of variables. For a function of a single real number $f(x)$, the simplest way to do this is to choose a set of $N$ points $x_i$ ($i=0,1,2,...,N-1$) and store the values $f(x_i)$.\n",
    "\n",
    "Let us start with a simple example. Take\n",
    "\n",
    "$f(x) = 2\\cos{(x^2)}-1$\n",
    "\n",
    "defined over the range $x\\in [-1,1]$ and \n",
    "\n",
    "$x_i = -1 + 2\\frac{i+0.5}{N}$.\n",
    "\n",
    "Construct numpy arrays $f_N$ containing the values $f(x_i)$ for $N=2,5,10,100,1000$, as well as numpy arrays $x_N$ containing the coordinates $x_i$ for the same values of $N$. I recommend doing this using python functions generating $x_N$ given $N$ and $f_N$ given $x_N$, rather than manually defining every $x_N$. The numpy function *arange* may also be useful for this."
   ]
  },
  {
   "cell_type": "code",
   "execution_count": 5,
   "id": "b3a9c19d",
   "metadata": {},
   "outputs": [],
   "source": [
    "import numpy as np \n",
    "def createarray(N):\n",
    "    array = np.zeros(N)\n",
    "    for x in range(0,N):\n",
    "        array[x] = -1 + 2*((x+0.5)/N)\n",
    "    return array\n",
    "# the createarray function makes the xi = -1 + 2(i+.5/N) array\n"
   ]
  },
  {
   "cell_type": "code",
   "execution_count": 7,
   "id": "e0589bdf-09aa-48e3-b93c-55e83da9144c",
   "metadata": {},
   "outputs": [],
   "source": [
    "def fx(A):\n",
    "    y = np.square(A)\n",
    "    y1 = np.cos(y)\n",
    "    y2 = 2*y1-1\n",
    "    return y2\n",
    "# The fx function creates an array of y values for f(x) given a corresponding array of x values"
   ]
  },
  {
   "cell_type": "code",
   "execution_count": 9,
   "id": "b84748ba-90bd-412c-a30b-4cd790464a44",
   "metadata": {},
   "outputs": [],
   "source": [
    "X2 = createarray(2)\n",
    "Y2 = fx(X2)\n",
    "\n",
    "X5 = createarray(5)\n",
    "Y5 = fx(X5)\n",
    "\n",
    "X10 = createarray(10)\n",
    "Y10 = fx(X10)\n",
    "\n",
    "X100 = createarray(100)\n",
    "Y100 = fx(X100)\n",
    "\n",
    "X1000 = createarray(1000)\n",
    "Y1000 = fx(X1000)\n"
   ]
  },
  {
   "cell_type": "markdown",
   "id": "86ccbbd0",
   "metadata": {},
   "source": [
    "Plot $f_N$ against $x_N$ for each $N$ used in the previous section. Make sure to label your axis and provide a clear legend for your plot."
   ]
  },
  {
   "cell_type": "code",
   "execution_count": 12,
   "id": "b4652cc8",
   "metadata": {},
   "outputs": [
    {
     "data": {
      "text/plain": [
       "[<matplotlib.lines.Line2D at 0x200493e8770>]"
      ]
     },
     "execution_count": 12,
     "metadata": {},
     "output_type": "execute_result"
    },
    {
     "data": {
      "image/png": "[encoded data removed]",
      "text/plain": [
       "<Figure size 640x480 with 1 Axes>"
      ]
     },
     "metadata": {},
     "output_type": "display_data"
    }
   ],
   "source": [
    "import matplotlib.pyplot as plt\n",
    "plt.plot(X1000,Y1000)\n",
    "plt.plot(X10, Y10)"
   ]
  },
  {
   "cell_type": "markdown",
   "id": "487d10ae",
   "metadata": {},
   "source": [
    "**Interpolation from discretized data**\n",
    "\n",
    "Let us now imagine that we do not know the true form of $f(x)$, and instead only have access to the discretized data. This is typically the case in real computational problems, e.g. if we evolve the values $f(x_i)$ over time without knowing a priori what $f(x,t)$ is. We would like to estimate $f(x)$ for any real input $x$.\n",
    "\n",
    "*Method 1*\n",
    "\n",
    "Write a function that first find the value of $i$ such that $x_i\\leq x < x_{i+1}$. Do this by looping over the array $x_N$, NOT using the known analytical values of $x_N$. The function should then calculate $f(x)$ using linear interpolation between $f(x_i)$ and $f(x_{i+1})$.\n",
    "\n",
    "*Method 2*\n",
    "\n",
    "Write a function performing the same operation, but using the premade function *interpolate.interp1d* from scipy, and cubic interpolation (see Maurik Holtrop's notebook on Basic Calculus for a discussion of that function).\n",
    "\n",
    "Once you have implemented both functions, use them to estimate $f(\\pi/4)$ with both Method 1 and Method 2 and for all values of $N$, and compare to the true answer for the original function $f(x)$. Why is this not working for $N=2$?"
   ]
  },
  {
   "cell_type": "code",
   "execution_count": 15,
   "id": "b4596b2a",
   "metadata": {},
   "outputs": [],
   "source": [
    "def myinterp(X, Y, Xval):\n",
    "        for i in X:\n",
    "          if X(i) >= Xval:\n",
    "            I1 = i - 1\n",
    "            I2 = i\n",
    "            break\n",
    "        Yval = Y(I1) + ((Xval - X(I1))/(X(I2) - X(I1)))*(Y(I2)-Y(I1))\n",
    "        return Yval\n",
    "\n",
    "#This won't work for pi/4 because pi/4 is around .75 which is outside the interval -0.5 to .5 which we get for N = 2\n",
    "\n",
    "    \n",
    "\n",
    "    "
   ]
  },
  {
   "cell_type": "code",
   "execution_count": 38,
   "id": "428c3256-5eb7-4719-b881-be74cc156fff",
   "metadata": {},
   "outputs": [
    {
     "data": {
      "text/plain": [
       "array(0.691849)"
      ]
     },
     "execution_count": 38,
     "metadata": {},
     "output_type": "execute_result"
    }
   ],
   "source": [
    "def myinterp2(X, Y, Xval):\n",
    "    f1 = sp.interpolate.interp1d(X,Y,kind = \"cubic\")\n",
    "    Yval = f1(Xval)\n",
    "    return Yval\n",
    "\n",
    "myinterp2(X100,Y100,0.75)\n",
    "\n",
    "    "
   ]
  },
  {
   "cell_type": "markdown",
   "id": "e26cad02",
   "metadata": {},
   "source": [
    "**Inverse of a function**\n",
    "\n",
    "Assume that you are given $x_N$ and $f_N$ for $N=100$, as calculated above. Used the *interpolate.interp1d* function and your plots of $f(x)$ to estimate the value(s) of $x$ for which $f(x)=0.32$ (see the Basic Calculus notebook for a discussion of how to do this)."
   ]
  },
  {
   "cell_type": "code",
   "execution_count": 28,
   "id": "15250e6f",
   "metadata": {},
   "outputs": [
    {
     "data": {
      "text/plain": [
       "array(-0.9218116)"
      ]
     },
     "execution_count": 28,
     "metadata": {},
     "output_type": "execute_result"
    }
   ],
   "source": [
    "import scipy as sp\n",
    "#what does interp1d actually take in as inputs and produce as an output?\n",
    "def personalinterp(X,Y):\n",
    "    X1 = X[:50]\n",
    "    X2 = X[50:]\n",
    "    Y1 = Y[:50]\n",
    "    Y2 = Y[50:]\n",
    "    f1 = sp.interpolate.interp1d(Y1,X1)\n",
    "    f2 = sp.interpolate.interp1d(Y2,X2)\n",
    "    return f1(0.32)\n",
    "\n",
    "personalinterp(X100,Y100)"
   ]
  },
  {
   "cell_type": "markdown",
   "id": "9de9290e",
   "metadata": {},
   "source": [
    "**Derivative of a discretized function**\n",
    "\n",
    "We would now like to estimate $f'=df/dx$. This is a fairly common necessity when solving physics problems computationally, e.g. when evolving ODEs/PDEs.\n",
    "A simple approximation to $f'(x_i)$ is\n",
    "\n",
    "$f'(x_i) = \\frac{f(x_{i+1})-f(x_{i-1})}{x_{i+1}-x_{i-1}}$\n",
    "\n",
    "Write a function that returns numpy array $f'_N$, given the arrays $f_N$ and $x_N$ from the previous problems. What is a reasonable thing to do to deal with the end points $i=0$ and $i=N-1$?\n",
    "\n",
    "Plot your results for $f'_N$ for all values of $N$ used so far, and compare with the exact result for $f'(x)$."
   ]
  },
  {
   "cell_type": "code",
   "execution_count": 21,
   "id": "f31f81ec",
   "metadata": {},
   "outputs": [
    {
     "data": {
      "text/plain": [
       "array([ 3.21214897e+00,  3.05887265e+00,  2.90665115e+00,  2.75603887e+00,\n",
       "        2.60754122e+00,  2.46161581e+00,  2.31867388e+00,  2.17908194e+00,\n",
       "        2.04316341e+00,  1.91120053e+00,  1.78343618e+00,  1.66007589e+00,\n",
       "        1.54128985e+00,  1.42721488e+00,  1.31795648e+00,  1.21359082e+00,\n",
       "        1.11416673e+00,  1.01970764e+00,  9.30213474e-01,  8.45662475e-01,\n",
       "        7.66012983e-01,  6.91205140e-01,  6.21162508e-01,  5.55793621e-01,\n",
       "        4.94993449e-01,  4.38644773e-01,  3.86619487e-01,  3.38779804e-01,\n",
       "        2.94979383e-01,  2.55064365e-01,  2.18874334e-01,  1.86243193e-01,\n",
       "        1.56999960e-01,  1.30969490e-01,  1.07973125e-01,  8.78292713e-02,\n",
       "        7.03539119e-02,  5.53610565e-02,  4.26631320e-02,  3.20713177e-02,\n",
       "        2.33958303e-02,  1.64461614e-02,  1.10312720e-02,  6.95974943e-03,\n",
       "        4.03992862e-03,  2.07998447e-03,  8.87997761e-04,  2.71999840e-04,\n",
       "        3.99999973e-05,  0.00000000e+00, -3.99999973e-05, -2.71999840e-04,\n",
       "       -8.87997761e-04, -2.07998447e-03, -4.03992862e-03, -6.95974943e-03,\n",
       "       -1.10312720e-02, -1.64461614e-02, -2.33958303e-02, -3.20713177e-02,\n",
       "       -4.26631320e-02, -5.53610565e-02, -7.03539119e-02, -8.78292713e-02,\n",
       "       -1.07973125e-01, -1.30969490e-01, -1.56999960e-01, -1.86243193e-01,\n",
       "       -2.18874334e-01, -2.55064365e-01, -2.94979383e-01, -3.38779804e-01,\n",
       "       -3.86619487e-01, -4.38644773e-01, -4.94993449e-01, -5.55793621e-01,\n",
       "       -6.21162508e-01, -6.91205140e-01, -7.66012983e-01, -8.45662475e-01,\n",
       "       -9.30213474e-01, -1.01970764e+00, -1.11416673e+00, -1.21359082e+00,\n",
       "       -1.31795648e+00, -1.42721488e+00, -1.54128985e+00, -1.66007589e+00,\n",
       "       -1.78343618e+00, -1.91120053e+00, -2.04316341e+00, -2.17908194e+00,\n",
       "       -2.31867388e+00, -2.46161581e+00, -2.60754122e+00, -2.75603887e+00,\n",
       "       -2.90665115e+00, -3.05887265e+00, -3.21214897e+00])"
      ]
     },
     "execution_count": 21,
     "metadata": {},
     "output_type": "execute_result"
    }
   ],
   "source": [
    "#When you do numerical differentiation, you usually just have to drop the endpoints, since the derivative\n",
    "#isn't well defined there.\n",
    "def myderive(X,Y):\n",
    "    h = X[2] - X[1]\n",
    "    Y = np.array(Y)\n",
    "    Y1 = Y[:-1]\n",
    "    Y2 = Y[1:]\n",
    "    df = (Y2-Y1)/h\n",
    "    return df\n",
    "myderive(X100,Y100)"
   ]
  },
  {
   "cell_type": "markdown",
   "id": "3ccb33a5",
   "metadata": {},
   "source": [
    "**Integral of a discretized function**\n",
    "\n",
    "Now, let us estimate\n",
    "\n",
    "$I = \\int_0^1 dx f(x)$\n",
    "\n",
    "As for interpolation, you will first use your own implementation of an integration routine, then use python's built-in functions.\n",
    "\n",
    "*Method 1*\n",
    "\n",
    "Write a function that takes as input the numpy arrays $x_N$ and $f_N$, and returns $I$ calculated using the trapezoidal rule. For this part, you are only allowed to use loops and algebraic functions, not any of python's built-in functions. What is a reasonable thing to do to deal with the end points?\n",
    "\n",
    "*Method 2*\n",
    "\n",
    "Now, write a function performing the same calculation using the built-in *integrate.cumtrapz* from scipy."
   ]
  },
  {
   "cell_type": "code",
   "execution_count": 75,
   "id": "e81ed916",
   "metadata": {},
   "outputs": [
    {
     "data": {
      "text/plain": [
       "1.6293171573609377"
      ]
     },
     "execution_count": 75,
     "metadata": {},
     "output_type": "execute_result"
    }
   ],
   "source": [
    "def myint(X,Y):\n",
    "    h = X[2] - X[1]\n",
    "    Y1 = np.array(Y)\n",
    "    Y1 = Y1[:-1]\n",
    "    Y1 = Y1[1:]\n",
    "    Ival = np.sum(Y1)\n",
    "    I = Ival*h + Y[-1]*h + Y[0]*h\n",
    "    return I\n",
    "    \n",
    "myint(X10,Y10)\n",
    "    "
   ]
  },
  {
   "cell_type": "code",
   "execution_count": 77,
   "id": "ece66d70-15c3-4c1b-9aea-08697dd4b57f",
   "metadata": {},
   "outputs": [
    {
     "name": "stderr",
     "output_type": "stream",
     "text": [
      "C:\\Users\\cswoo\\AppData\\Local\\Temp\\ipykernel_21264\\3486994991.py:3: DeprecationWarning: 'scipy.integrate.cumtrapz' is deprecated in favour of 'scipy.integrate.cumulative_trapezoid' and will be removed in SciPy 1.14.0\n",
      "  I = sp.integrate.cumtrapz(Y,X)\n"
     ]
    },
    {
     "data": {
      "text/plain": [
       "1.5535177841802392"
      ]
     },
     "execution_count": 77,
     "metadata": {},
     "output_type": "execute_result"
    }
   ],
   "source": [
    "def myint(X,Y):\n",
    "    h = X[1]-X[0]\n",
    "    I = sp.integrate.cumtrapz(Y,X)\n",
    "    return I[-1]\n",
    "\n",
    "myint(X10,Y10)"
   ]
  },
  {
   "cell_type": "code",
   "execution_count": null,
   "id": "2a551841-b80a-4d53-a3e5-c93a76867e32",
   "metadata": {},
   "outputs": [],
   "source": []
  }
 ],
 "metadata": {
  "kernelspec": {
   "display_name": "Python 3 (ipykernel)",
   "language": "python",
   "name": "python3"
  },
  "language_info": {
   "codemirror_mode": {
    "name": "ipython",
    "version": 3
   },
   "file_extension": ".py",
   "mimetype": "text/x-python",
   "name": "python",
   "nbconvert_exporter": "python",
   "pygments_lexer": "ipython3",
   "version": "3.12.4"
  }
 },
 "nbformat": 4,
 "nbformat_minor": 5
}
